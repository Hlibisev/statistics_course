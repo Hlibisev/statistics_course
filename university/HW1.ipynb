{
 "cells": [
  {
   "cell_type": "code",
   "execution_count": 3,
   "metadata": {},
   "outputs": [],
   "source": [
    "import scipy\n",
    "import numpy as np\n",
    "import pandas as pd"
   ]
  },
  {
   "cell_type": "markdown",
   "metadata": {},
   "source": [
    "# Условие\n",
    "Исследуется заработная плата работников с одинаковой квалификацией на предприятиях одной отрасли. С этой целью были проведены четыре выборки среди предприятий отрасли. Результаты представлены в таблицах  19 –22. Для предприятий этой отрасли была установлена средняя заработная плата 22 500 руб. \n",
    "\n",
    "По результатам  проведённого статистического анализа ответьте на вопросы:\n",
    "\n",
    "* Можно ли считать, что заработная плата на предприятии соответствует установленному уровню?\n",
    "* Сравните полученные выборочные с данными другого предприятия отрасли (по выбору).  Можно ли сказать, что работники этих предприятий получают одинаковое вознаграждение?\n",
    "* Насколько нужно увеличить объём  выборки, чтобы точность оценки увеличились на 15%?"
   ]
  },
  {
   "cell_type": "code",
   "execution_count": 4,
   "metadata": {},
   "outputs": [
    {
     "name": "stdout",
     "output_type": "stream",
     "text": [
      "[14600 22700 22700 22700 22700 23600 23600 23600 23600 23600 24600 24600\n",
      " 24600 24600 24600 24600 24700 24700 24700 24700 24700 24700 24700 25400\n",
      " 25400 25550 25550 25550 25550 26550 27400 27400 27400]\n"
     ]
    }
   ],
   "source": [
    "# Таблица 20\n",
    "x20 = np.array([14600, 22700, 23600, 24600, 24700, 25400, 25550, 26550, 27400])\n",
    "n20 = np.array([1, 4, 5, 6, 7, 2, 4, 1, 3])\n",
    "\n",
    "# Приведем данные в удобный для python вид\n",
    "data20 = []\n",
    "for salary, num_employ in zip(x20, n20):\n",
    "    data20 += [salary] * num_employ\n",
    "\n",
    "data20 = np.array(data20)\n",
    "print(data20)"
   ]
  },
  {
   "cell_type": "markdown",
   "metadata": {},
   "source": [
    "# EDA"
   ]
  },
  {
   "cell_type": "code",
   "execution_count": 5,
   "metadata": {},
   "outputs": [
    {
     "name": "stdout",
     "output_type": "stream",
     "text": [
      "Среднее - 24413.636363636364\n",
      "Медиана - 24700.0\n",
      "Вариация - 4562920.110192837\n",
      "Эксцесса - 10.943120867903607\n",
      "Ассиметрия - -2.7057851970137663\n"
     ]
    },
    {
     "data": {
      "image/png": "[encoded data removed]",
      "text/plain": [
       "<Figure size 432x288 with 1 Axes>"
      ]
     },
     "metadata": {
      "needs_background": "light"
     },
     "output_type": "display_data"
    }
   ],
   "source": [
    "from scipy.stats import kurtosis, skew\n",
    "import seaborn as sns\n",
    "\n",
    "\n",
    "print(f'Среднее - {data20.mean()}')\n",
    "print(f'Медиана - {np.median(data20)}')\n",
    "print(f'Вариация - {data20.var()}')\n",
    "print(f'Эксцесса - {kurtosis(data20)}')\n",
    "print(f'Ассиметрия - {skew(data20)}')\n",
    "\n",
    "sns.histplot(pd.DataFrame(data20, columns=['salary']));"
   ]
  },
  {
   "cell_type": "markdown",
   "metadata": {},
   "source": [
    "# Проверка на нормальность\n",
    "Давайте проеведем тест Шапиро-Уилка"
   ]
  },
  {
   "cell_type": "code",
   "execution_count": 6,
   "metadata": {},
   "outputs": [
    {
     "name": "stdout",
     "output_type": "stream",
     "text": [
      "p-value = 1.066740423993906e-06. Отклоняем нулевую гипотезу о нормальности\n"
     ]
    }
   ],
   "source": [
    "from scipy.stats import shapiro\n",
    "# H0 - данные пришли из нормального распределения\n",
    "# H1 - это не так\n",
    "\n",
    "print(f'p-value = {shapiro(data20).pvalue}. Отклоняем нулевую гипотезу о нормальности')"
   ]
  },
  {
   "cell_type": "markdown",
   "metadata": {},
   "source": [
    "# Построение доверительных интервалов"
   ]
  },
  {
   "cell_type": "markdown",
   "metadata": {},
   "source": [
    "По ЦПТ при существовании дисперсии распределения оценка\n",
    "\n",
    "$$\\sqrt{n} \\frac{\\bar{X}_{n}-\\mu}{\\sigma} \\rightarrow N(0,1), \\text { по распределению при } n \\rightarrow \\infty,\n",
    "$$\n",
    "\n",
    "где $\\bar{X}_n$ среднее арифметическое, $\\mu$ - мат ожидание, $\\sigma^2$ - дисперсия. Мы можем заменить $\\sigma$ на стандартное отклонение, так как стандартное отклонение есть состоятельная оценка $\\sigma$ и асимптотическая нормальность не изменится. Отсюда мы можем получить асимптотический доверительный интервал уровня $\\gamma$\n",
    "\n",
    "$$\\bar{X}-\\frac{z_{\\frac{1+\\gamma}{2}} \\bar s}{\\sqrt{n}}<a<\\bar{X}+ \\frac{z_{\\frac{1+\\gamma}{2}} \\bar s}{\\sqrt{n}}$$"
   ]
  },
  {
   "cell_type": "code",
   "execution_count": 7,
   "metadata": {},
   "outputs": [],
   "source": [
    "from scipy.stats import norm\n",
    "\n",
    "def confidence_interval(data, gamma):\n",
    "    mean = np.mean(data)\n",
    "    std = np.std(data)\n",
    "    border = norm.ppf((1 + gamma) / 2) * std / np.sqrt(len(data))\n",
    "    return mean - border, mean + border"
   ]
  },
  {
   "cell_type": "code",
   "execution_count": 8,
   "metadata": {},
   "outputs": [
    {
     "name": "stdout",
     "output_type": "stream",
     "text": [
      "Доверительный интервал для мат ожидания: (23455.8215664271, 25371.451160845627)\n"
     ]
    }
   ],
   "source": [
    "# Мы видим, что ожидаемая средняя зараплата не лежит в 99-ти процентном доверительном интервале, \n",
    "# то есть заработная плата на предприятии  не соответствует установленному уровню. \n",
    "\n",
    "print('Доверительный интервал для мат ожидания:', confidence_interval(data20, 0.99))"
   ]
  },
  {
   "cell_type": "markdown",
   "metadata": {},
   "source": [
    "Так же построим доверительный интервал для среднего в смысле медианы.\n",
    "Возьмем вариацонный ряд из наших наблюдений –\n",
    "$X_{[1]}, X_{[2]}, X_{[3]} , ..., X_{[n]}$\n",
    "Наши наблюдения, как реализация случайных величин, могли попасть слева от медианы и справа от медины с вероятностью $p = \\frac{1}{2}$.\n",
    "$$\n",
    "P\\left(X_{j} \\leq median \\leq X_{k}\\right)=\\sum_{i=j}^{k}\\left( C_{n}^i\\right)\\left(p^{i}\\right)(1-p)^{n-i}\n",
    "$$\n",
    "Найдем при каких i, k эта вероятность больше 99 "
   ]
  },
  {
   "cell_type": "code",
   "execution_count": 9,
   "metadata": {},
   "outputs": [
    {
     "name": "stdout",
     "output_type": "stream",
     "text": [
      "Доверительный интервал для медианы: (23600, 25400)\n"
     ]
    }
   ],
   "source": [
    "# Находим i, k\n",
    "from scipy.stats import binom\n",
    "\n",
    "n, p = len(data20), 1/2\n",
    "i, k = binom.interval(0.99, n, p)\n",
    "sorted_data20 = np.sort(data20)\n",
    "print(f'Доверительный интервал для медианы: {sorted_data20[int(i)], sorted_data20[int(k)]}')"
   ]
  },
  {
   "cell_type": "markdown",
   "metadata": {},
   "source": [
    "Сравним этот доверительный интервал для с доверительный интервалом, полученный с помощью bootstrap"
   ]
  },
  {
   "cell_type": "code",
   "execution_count": 10,
   "metadata": {},
   "outputs": [
    {
     "name": "stdout",
     "output_type": "stream",
     "text": [
      "Доверительный интервал для медианы(bootstrap): (23600.0, 25400.0)\n"
     ]
    }
   ],
   "source": [
    "def bootstrap(data, num_samples, statistic, alpha):\n",
    "    \"\"\"Returns bootstrap estimate of 100.0*(1-alpha) CI for statistic.\"\"\"\n",
    "    n = len(data)\n",
    "    idx = np.random.randint(0, n, (num_samples, n))\n",
    "    samples = data[idx]\n",
    "    stat = np.sort(statistic(samples, 1))\n",
    "    return (stat[int((alpha / 2.0) * num_samples)],\n",
    "            stat[int((1 - alpha / 2.0) * num_samples)])\n",
    "\n",
    "low, high = bootstrap(data20, 10000, np.median, 0.01)\n",
    "print(f'Доверительный интервал для медианы(bootstrap): {low, high}')"
   ]
  },
  {
   "cell_type": "markdown",
   "metadata": {},
   "source": [
    "Ого! Они совпали! Видим, что все эти интервалы не содержат 22 500"
   ]
  },
  {
   "cell_type": "markdown",
   "metadata": {},
   "source": [
    "# Проверка статистических гипотез"
   ]
  },
  {
   "cell_type": "code",
   "execution_count": 11,
   "metadata": {},
   "outputs": [
    {
     "data": {
      "text/plain": [
       "WilcoxonResult(statistic=33.0, pvalue=9.23558212695375e-06)"
      ]
     },
     "execution_count": 11,
     "metadata": {},
     "output_type": "execute_result"
    }
   ],
   "source": [
    "from scipy.stats import wilcoxon\n",
    "\n",
    "# H0: med X = mo\n",
    "wilcoxon(data20 - 22_500)"
   ]
  },
  {
   "cell_type": "markdown",
   "metadata": {},
   "source": [
    "Отвергаем нулевую гипотезу при уровне значимости 0.005. Среднее в смысле медианы не равно 22 500"
   ]
  },
  {
   "cell_type": "markdown",
   "metadata": {},
   "source": [
    "# Сравнение с другим предприятием"
   ]
  },
  {
   "cell_type": "markdown",
   "metadata": {},
   "source": [
    "Для оценивания средних зарплат 2ух предприятий будем использовать критерий равенства медиан, потому что она лучше оценивает среднее в случае зарплат (не сильно реагирует на выбросы)."
   ]
  },
  {
   "cell_type": "code",
   "execution_count": 12,
   "metadata": {},
   "outputs": [
    {
     "name": "stdout",
     "output_type": "stream",
     "text": [
      "[21750 21800 21800 21800 22100 22100 22100 22200 22200 22200 22200 22200\n",
      " 22900 22900 22900 22900 22900 22900 23100 23100 23100 24550 24550 25500\n",
      " 25600]\n"
     ]
    }
   ],
   "source": [
    "x21 = np.array([21750, 21800, 22100, 22200, 22900, 23100, 24550, 25500, 25600])\n",
    "n21 = np.array([1, 3, 3, 5, 6, 3, 2, 1, 1])\n",
    "\n",
    "data21 = []\n",
    "for salary, num_employ in zip(x21, n21):\n",
    "    data21 += [salary] * num_employ\n",
    "\n",
    "data21 = np.array(data21)\n",
    "print(data21)"
   ]
  },
  {
   "cell_type": "code",
   "execution_count": 13,
   "metadata": {},
   "outputs": [
    {
     "name": "stdout",
     "output_type": "stream",
     "text": [
      "Доверительный интервал для медианы(bootstrap): (22100.0, 23100.0)\n"
     ]
    }
   ],
   "source": [
    "# Так же сделаем доверительный интервал для медианы.\n",
    "\n",
    "low, high = bootstrap(data21, 100000, np.median, 0.01)\n",
    "print(f'Доверительный интервал для медианы(bootstrap): {low, high}')"
   ]
  },
  {
   "cell_type": "code",
   "execution_count": 14,
   "metadata": {},
   "outputs": [
    {
     "data": {
      "text/plain": [
       "(22300.254449246793, 23407.745550753207)"
      ]
     },
     "execution_count": 14,
     "metadata": {},
     "output_type": "execute_result"
    }
   ],
   "source": [
    "# Доверительный интервал для среднего арифметического зарплат 21 цеха. \n",
    "\n",
    "confidence_interval(data21, 0.99)"
   ]
  },
  {
   "cell_type": "code",
   "execution_count": 15,
   "metadata": {},
   "outputs": [
    {
     "data": {
      "text/plain": [
       "WilcoxonResult(statistic=123.0, pvalue=0.2996123433113098)"
      ]
     },
     "execution_count": 15,
     "metadata": {},
     "output_type": "execute_result"
    }
   ],
   "source": [
    "# H0: med X = mo\n",
    "wilcoxon(data21 - 22_500) # нет оснований отклонить нулевую гипотезу"
   ]
  },
  {
   "cell_type": "code",
   "execution_count": 16,
   "metadata": {},
   "outputs": [],
   "source": [
    "from tqdm.auto import tqdm\n",
    "\n",
    "def get_bootstrap(\n",
    "    data_column_1, # числовые значения первой выборки\n",
    "    data_column_2, # числовые значения второй выборки\n",
    "    boot_it = 1000, # количество бутстрэп-подвыборок\n",
    "    statistic = np.median, # интересующая нас статистика\n",
    "    bootstrap_conf_level = 0.95 # уровень значимости\n",
    "):\n",
    "    boot_len = max([len(data_column_1), len(data_column_2)])\n",
    "    boot_data = []\n",
    "    for i in tqdm(range(boot_it)): # извлекаем подвыборки\n",
    "        samples_1 = data_column_1.sample(\n",
    "            boot_len, \n",
    "            replace = True # параметр возвращения\n",
    "        ).values\n",
    "        \n",
    "        samples_2 = data_column_2.sample(\n",
    "            boot_len, # чтобы сохранить дисперсию, берем такой же размер выборки\n",
    "            replace = True\n",
    "        ).values\n",
    "        \n",
    "        boot_data.append(statistic(samples_1-samples_2)) \n",
    "    pd_boot_data = pd.DataFrame(boot_data)\n",
    "        \n",
    "    left_quant = (1 - bootstrap_conf_level)/2\n",
    "    right_quant = 1 - (1 - bootstrap_conf_level) / 2\n",
    "    quants = pd_boot_data.quantile([left_quant, right_quant])\n",
    "        \n",
    "    p_1 = norm.cdf(\n",
    "        x = 0, \n",
    "        loc = np.mean(boot_data), \n",
    "        scale = np.std(boot_data)\n",
    "    )\n",
    "    p_2 = norm.cdf(\n",
    "        x = 0, \n",
    "        loc = -np.mean(boot_data), \n",
    "        scale = np.std(boot_data)\n",
    "    )\n",
    "    p_value = min(p_1, p_2) * 2\n",
    "       \n",
    "    return {\"boot_data\": boot_data, \n",
    "            \"quants\": quants, \n",
    "            \"p_value\": p_value}"
   ]
  },
  {
   "cell_type": "code",
   "execution_count": 17,
   "metadata": {},
   "outputs": [
    {
     "data": {
      "application/vnd.jupyter.widget-view+json": {
       "model_id": "67a4615eca9a4306a5746b2b3cae4689",
       "version_major": 2,
       "version_minor": 0
      },
      "text/plain": [
       "HBox(children=(HTML(value=''), FloatProgress(value=0.0, max=1000.0), HTML(value='')))"
      ]
     },
     "metadata": {},
     "output_type": "display_data"
    },
    {
     "name": "stdout",
     "output_type": "stream",
     "text": [
      "\n"
     ]
    },
    {
     "data": {
      "text/plain": [
       "2.0493435819638607e-07"
      ]
     },
     "execution_count": 17,
     "metadata": {},
     "output_type": "execute_result"
    }
   ],
   "source": [
    "get_bootstrap(pd.DataFrame(data20), pd.DataFrame(data21), bootstrap_conf_level=0.99)['p_value']"
   ]
  },
  {
   "cell_type": "markdown",
   "metadata": {},
   "source": [
    "Отвергаем нулевую гипотезу при уровне значимости 0.005. Средние в смысле медианы не равны."
   ]
  }
 ],
 "metadata": {
  "kernelspec": {
   "display_name": "Python 3",
   "language": "python",
   "name": "python3"
  },
  "language_info": {
   "codemirror_mode": {
    "name": "ipython",
    "version": 3
   },
   "file_extension": ".py",
   "mimetype": "text/x-python",
   "name": "python",
   "nbconvert_exporter": "python",
   "pygments_lexer": "ipython3",
   "version": "3.8.5"
  }
 },
 "nbformat": 4,
 "nbformat_minor": 4
}
