{
 "cells": [
  {
   "cell_type": "code",
   "execution_count": 32,
   "metadata": {},
   "outputs": [],
   "source": [
    "import scipy\n",
    "import numpy as np\n",
    "import pandas"
   ]
  },
  {
   "cell_type": "markdown",
   "metadata": {},
   "source": [
    "Исследуется заработная плата работников с одинаковой квалификацией на предприятиях одной отрасли. С этой целью были проведены четыре выборки среди предприятий отрасли. Результаты представлены в таблицах  19 –22. Для предприятий этой отрасли была установлена средняя заработная плата 22 500 руб. "
   ]
  },
  {
   "cell_type": "code",
   "execution_count": 33,
   "metadata": {},
   "outputs": [],
   "source": [
    "# Таблица 20\n",
    "x20 = np.array([14600, 22700, 23600, 24600, 24700, 25400, 25550, 26550, 27400])\n",
    "n20 = np.array([1, 4, 5, 6, 7, 2, 4, 1, 3])"
   ]
  },
  {
   "cell_type": "markdown",
   "metadata": {},
   "source": [
    "По результатам  проведённого статистического анализа ответьте на вопросы:\n",
    "\n",
    "* Можно ли считать, что заработная плата на предприятии соответствует установленному уровню?\n",
    "* Сравните полученные выборочные с данными другого предприятия отрасли (по выбору).  Можно ли сказать, что работники этих предприятий получают одинаковое вознаграждение?\n",
    "* Насколько нужно увеличить объём  выборки, чтобы точность оценки увеличились на 15%?"
   ]
  },
  {
   "cell_type": "code",
   "execution_count": 34,
   "metadata": {},
   "outputs": [
    {
     "data": {
      "text/plain": [
       "24413.636363636364"
      ]
     },
     "execution_count": 34,
     "metadata": {},
     "output_type": "execute_result"
    }
   ],
   "source": [
    "# Среднее арифметическое \n",
    "mean20 = (x20 * n20).sum() / sum(n20)\n",
    "mean20"
   ]
  },
  {
   "cell_type": "markdown",
   "metadata": {},
   "source": [
    "По ЦПТ при существовании дисперсии распределения оценка\n",
    "\n",
    "$$\\sqrt{n} \\frac{\\bar{X}_{n}-\\mu}{\\sigma} \\rightarrow N(0,1), \\text { по распределению при } n \\rightarrow \\infty,\n",
    "$$\n",
    "\n",
    "где $\\bar{X}_n$ среднее арифметическое, $\\mu$ - мат ожидание, $\\sigma^2$ - дисперсия. Мы можем заменить $\\sigma$ на стандартное отклонение, так как стандартное отклонение есть состоятельная оценка $\\sigma$ и асимптотическая нормальность не изменится. Отсюда мы можем получить асимптотический доверительный интервал уровня $\\gamma$\n",
    "\n",
    "$$\\bar{X}-\\frac{z_{\\frac{1+\\gamma}{2}} \\bar s}{\\sqrt{n}}<a<\\bar{X}+ \\frac{z_{\\frac{1+\\gamma}{2}} \\bar s}{\\sqrt{n}}$$"
   ]
  },
  {
   "cell_type": "code",
   "execution_count": 35,
   "metadata": {},
   "outputs": [],
   "source": [
    "from scipy.stats import norm\n",
    "\n",
    "def confidence_interval(data, gamma):\n",
    "    mean = np.mean(data)\n",
    "    std = np.std(data)\n",
    "    border = norm.ppf((1 + gamma) / 2) * std / np.sqrt(len(data))\n",
    "    return mean - border, mean + border"
   ]
  },
  {
   "cell_type": "code",
   "execution_count": 36,
   "metadata": {},
   "outputs": [
    {
     "name": "stdout",
     "output_type": "stream",
     "text": [
      "[14600 22700 22700 22700 22700 23600 23600 23600 23600 23600 24600 24600\n",
      " 24600 24600 24600 24600 24700 24700 24700 24700 24700 24700 24700 25400\n",
      " 25400 25550 25550 25550 25550 26550 27400 27400 27400]\n"
     ]
    }
   ],
   "source": [
    "# Приведем данные в удобный для python вид\n",
    "data20 = []\n",
    "for salary, num_employ in zip(x20, n20):\n",
    "    data20 += [salary] * num_employ\n",
    "\n",
    "data20 = np.array(data20)\n",
    "print(data20)"
   ]
  },
  {
   "cell_type": "markdown",
   "metadata": {},
   "source": [
    "Мы видим, что ожидаемая средняя зараплата не лежит в 99-ти процентном доверительном интервале, то есть заработная плата на предприятии не соответствует установленному уровню."
   ]
  },
  {
   "cell_type": "code",
   "execution_count": 37,
   "metadata": {},
   "outputs": [
    {
     "data": {
      "text/plain": [
       "(23455.8215664271, 25371.451160845627)"
      ]
     },
     "execution_count": 37,
     "metadata": {},
     "output_type": "execute_result"
    }
   ],
   "source": [
    "confidence_interval(data20, 0.99)"
   ]
  },
  {
   "cell_type": "markdown",
   "metadata": {},
   "source": [
    "Критерий Вилкоксона для равенства медианы data22  - 22 500"
   ]
  },
  {
   "cell_type": "code",
   "execution_count": 38,
   "metadata": {},
   "outputs": [
    {
     "data": {
      "text/plain": [
       "WilcoxonResult(statistic=33.0, pvalue=9.23558212695375e-06)"
      ]
     },
     "execution_count": 38,
     "metadata": {},
     "output_type": "execute_result"
    }
   ],
   "source": [
    "from scipy.stats import wilcoxon\n",
    "\n",
    "# H0: med X = mo\n",
    "wilcoxon(data20 - 22_500)"
   ]
  },
  {
   "cell_type": "markdown",
   "metadata": {},
   "source": [
    "Отвергаем нулевую гипотезу при уровне значимости 0.005. Среднее в смысле медианы не равно 22 500"
   ]
  },
  {
   "cell_type": "markdown",
   "metadata": {},
   "source": [
    "Для оценивания средних зарплат 2ух предприятий будем использовать критерий равенства медиан, потому что она лучше оценивает среднее в случае зарплат (не сильно реагирует на выбросы). В теории можно было сделать доверительный интервал используя медиану, но мы не знаем асимптотическое распределение статистики."
   ]
  },
  {
   "cell_type": "code",
   "execution_count": 39,
   "metadata": {},
   "outputs": [
    {
     "name": "stdout",
     "output_type": "stream",
     "text": [
      "[21750 21800 21800 21800 22100 22100 22100 22200 22200 22200 22200 22200\n",
      " 22900 22900 22900 22900 22900 22900 23100 23100 23100 24550 24550 25500\n",
      " 25600]\n"
     ]
    }
   ],
   "source": [
    "x21 = np.array([21750, 21800, 22100, 22200, 22900, 23100, 24550, 25500, 25600])\n",
    "n21 = np.array([1, 3, 3, 5, 6, 3, 2, 1, 1])\n",
    "\n",
    "data21 = []\n",
    "for salary, num_employ in zip(x21, n21):\n",
    "    data21 += [salary] * num_employ\n",
    "\n",
    "data21 = np.array(data21)\n",
    "print(data21)"
   ]
  },
  {
   "cell_type": "code",
   "execution_count": 41,
   "metadata": {},
   "outputs": [
    {
     "data": {
      "text/plain": [
       "(22300.254449246793, 23407.745550753207)"
      ]
     },
     "execution_count": 41,
     "metadata": {},
     "output_type": "execute_result"
    }
   ],
   "source": [
    "# Доверительный интервал для средних зарплат 21 цеха. \n",
    "# Он не пересекается с доверительным интервалом 20ого цеха\n",
    "\n",
    "confidence_interval(data21, 0.99)"
   ]
  },
  {
   "cell_type": "code",
   "execution_count": 45,
   "metadata": {},
   "outputs": [],
   "source": [
    "from tqdm.auto import tqdm"
   ]
  },
  {
   "cell_type": "code",
   "execution_count": 52,
   "metadata": {},
   "outputs": [],
   "source": [
    "def get_bootstrap(\n",
    "    data_column_1, # числовые значения первой выборки\n",
    "    data_column_2, # числовые значения второй выборки\n",
    "    boot_it = 1000, # количество бутстрэп-подвыборок\n",
    "    statistic = np.median, # интересующая нас статистика\n",
    "    bootstrap_conf_level = 0.95 # уровень значимости\n",
    "):\n",
    "    boot_len = max([len(data_column_1), len(data_column_2)])\n",
    "    boot_data = []\n",
    "    for i in tqdm(range(boot_it)): # извлекаем подвыборки\n",
    "        samples_1 = data_column_1.sample(\n",
    "            boot_len, \n",
    "            replace = True # параметр возвращения\n",
    "        ).values\n",
    "        \n",
    "        samples_2 = data_column_2.sample(\n",
    "            boot_len, # чтобы сохранить дисперсию, берем такой же размер выборки\n",
    "            replace = True\n",
    "        ).values\n",
    "        \n",
    "        boot_data.append(statistic(samples_1-samples_2)) \n",
    "    pd_boot_data = pd.DataFrame(boot_data)\n",
    "        \n",
    "    left_quant = (1 - bootstrap_conf_level)/2\n",
    "    right_quant = 1 - (1 - bootstrap_conf_level) / 2\n",
    "    quants = pd_boot_data.quantile([left_quant, right_quant])\n",
    "        \n",
    "    p_1 = norm.cdf(\n",
    "        x = 0, \n",
    "        loc = np.mean(boot_data), \n",
    "        scale = np.std(boot_data)\n",
    "    )\n",
    "    p_2 = norm.cdf(\n",
    "        x = 0, \n",
    "        loc = -np.mean(boot_data), \n",
    "        scale = np.std(boot_data)\n",
    "    )\n",
    "    p_value = min(p_1, p_2) * 2\n",
    "       \n",
    "    return {\"boot_data\": boot_data, \n",
    "            \"quants\": quants, \n",
    "            \"p_value\": p_value}"
   ]
  },
  {
   "cell_type": "code",
   "execution_count": 56,
   "metadata": {},
   "outputs": [
    {
     "data": {
      "application/vnd.jupyter.widget-view+json": {
       "model_id": "8cf2290e04cc481da0f48caa58b0024d",
       "version_major": 2,
       "version_minor": 0
      },
      "text/plain": [
       "HBox(children=(HTML(value=''), FloatProgress(value=0.0, max=1000.0), HTML(value='')))"
      ]
     },
     "metadata": {},
     "output_type": "display_data"
    },
    {
     "name": "stdout",
     "output_type": "stream",
     "text": [
      "\n"
     ]
    },
    {
     "data": {
      "text/plain": [
       "1.5213663255675115e-07"
      ]
     },
     "execution_count": 56,
     "metadata": {},
     "output_type": "execute_result"
    }
   ],
   "source": [
    "get_bootstrap(pd.DataFrame(data20), pd.DataFrame(data21), bootstrap_conf_level=0.99)['p_value']"
   ]
  },
  {
   "cell_type": "markdown",
   "metadata": {},
   "source": [
    "Отвергаем нулевую гипотезу при уровне значимости 0.005. Средние в смысле медианы не равны."
   ]
  }
 ],
 "metadata": {
  "kernelspec": {
   "display_name": "Python 3",
   "language": "python",
   "name": "python3"
  },
  "language_info": {
   "codemirror_mode": {
    "name": "ipython",
    "version": 3
   },
   "file_extension": ".py",
   "mimetype": "text/x-python",
   "name": "python",
   "nbconvert_exporter": "python",
   "pygments_lexer": "ipython3",
   "version": "3.8.5"
  }
 },
 "nbformat": 4,
 "nbformat_minor": 4
}
