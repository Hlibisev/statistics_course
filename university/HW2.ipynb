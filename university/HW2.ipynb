{
 "cells": [
  {
   "cell_type": "code",
   "execution_count": 1,
   "metadata": {},
   "outputs": [],
   "source": [
    "import scipy\n",
    "import numpy as np\n",
    "import pandas as pd\n",
    "import seaborn as sns"
   ]
  },
  {
   "cell_type": "code",
   "execution_count": 2,
   "metadata": {},
   "outputs": [
    {
     "data": {
      "text/html": [
       "<div>\n",
       "<style scoped>\n",
       "    .dataframe tbody tr th:only-of-type {\n",
       "        vertical-align: middle;\n",
       "    }\n",
       "\n",
       "    .dataframe tbody tr th {\n",
       "        vertical-align: top;\n",
       "    }\n",
       "\n",
       "    .dataframe thead th {\n",
       "        text-align: right;\n",
       "    }\n",
       "</style>\n",
       "<table border=\"1\" class=\"dataframe\">\n",
       "  <thead>\n",
       "    <tr style=\"text-align: right;\">\n",
       "      <th></th>\n",
       "      <th>Накопленная оценка</th>\n",
       "      <th>Экзаменационная оценка</th>\n",
       "    </tr>\n",
       "  </thead>\n",
       "  <tbody>\n",
       "    <tr>\n",
       "      <th>0</th>\n",
       "      <td>5</td>\n",
       "      <td>6</td>\n",
       "    </tr>\n",
       "    <tr>\n",
       "      <th>1</th>\n",
       "      <td>1</td>\n",
       "      <td>5</td>\n",
       "    </tr>\n",
       "    <tr>\n",
       "      <th>2</th>\n",
       "      <td>2</td>\n",
       "      <td>3</td>\n",
       "    </tr>\n",
       "    <tr>\n",
       "      <th>3</th>\n",
       "      <td>4</td>\n",
       "      <td>2</td>\n",
       "    </tr>\n",
       "    <tr>\n",
       "      <th>4</th>\n",
       "      <td>3</td>\n",
       "      <td>5</td>\n",
       "    </tr>\n",
       "  </tbody>\n",
       "</table>\n",
       "</div>"
      ],
      "text/plain": [
       "   Накопленная оценка  Экзаменационная оценка\n",
       "0                   5                       6\n",
       "1                   1                       5\n",
       "2                   2                       3\n",
       "3                   4                       2\n",
       "4                   3                       5"
      ]
     },
     "execution_count": 2,
     "metadata": {},
     "output_type": "execute_result"
    }
   ],
   "source": [
    "# Загружаем 5 вариант\n",
    "data = pd.read_excel('../data/Данные_301.xls', sheet_name=4)\n",
    "data.head()"
   ]
  },
  {
   "cell_type": "code",
   "execution_count": 3,
   "metadata": {},
   "outputs": [],
   "source": [
    "# Считаем итоговую оценку и округляем ее по математике\n",
    "data['Итоговая оценка'] = (data['Накопленная оценка'] + data['Экзаменационная оценка']) / 2\n",
    "# В питоне очень странно работает округление, поэтому добавляем 0.1.\n",
    "# Это не изменит результат округления для целых чисел, но для чисел с .5 на конце, \n",
    "# оокругление будет в большую сторону \n",
    "data['Итоговая оценка(округленная)'] = (data['Итоговая оценка'] + 0.1).round().astype(int)"
   ]
  },
  {
   "cell_type": "code",
   "execution_count": 4,
   "metadata": {},
   "outputs": [
    {
     "data": {
      "text/html": [
       "<div>\n",
       "<style scoped>\n",
       "    .dataframe tbody tr th:only-of-type {\n",
       "        vertical-align: middle;\n",
       "    }\n",
       "\n",
       "    .dataframe tbody tr th {\n",
       "        vertical-align: top;\n",
       "    }\n",
       "\n",
       "    .dataframe thead th {\n",
       "        text-align: right;\n",
       "    }\n",
       "</style>\n",
       "<table border=\"1\" class=\"dataframe\">\n",
       "  <thead>\n",
       "    <tr style=\"text-align: right;\">\n",
       "      <th></th>\n",
       "      <th>Накопленная оценка</th>\n",
       "      <th>Экзаменационная оценка</th>\n",
       "      <th>Итоговая оценка</th>\n",
       "      <th>Итоговая оценка(округленная)</th>\n",
       "    </tr>\n",
       "  </thead>\n",
       "  <tbody>\n",
       "    <tr>\n",
       "      <th>0</th>\n",
       "      <td>5</td>\n",
       "      <td>6</td>\n",
       "      <td>5.5</td>\n",
       "      <td>6</td>\n",
       "    </tr>\n",
       "    <tr>\n",
       "      <th>1</th>\n",
       "      <td>1</td>\n",
       "      <td>5</td>\n",
       "      <td>3.0</td>\n",
       "      <td>3</td>\n",
       "    </tr>\n",
       "    <tr>\n",
       "      <th>2</th>\n",
       "      <td>2</td>\n",
       "      <td>3</td>\n",
       "      <td>2.5</td>\n",
       "      <td>3</td>\n",
       "    </tr>\n",
       "    <tr>\n",
       "      <th>3</th>\n",
       "      <td>4</td>\n",
       "      <td>2</td>\n",
       "      <td>3.0</td>\n",
       "      <td>3</td>\n",
       "    </tr>\n",
       "    <tr>\n",
       "      <th>4</th>\n",
       "      <td>3</td>\n",
       "      <td>5</td>\n",
       "      <td>4.0</td>\n",
       "      <td>4</td>\n",
       "    </tr>\n",
       "  </tbody>\n",
       "</table>\n",
       "</div>"
      ],
      "text/plain": [
       "   Накопленная оценка  Экзаменационная оценка  Итоговая оценка  \\\n",
       "0                   5                       6              5.5   \n",
       "1                   1                       5              3.0   \n",
       "2                   2                       3              2.5   \n",
       "3                   4                       2              3.0   \n",
       "4                   3                       5              4.0   \n",
       "\n",
       "   Итоговая оценка(округленная)  \n",
       "0                             6  \n",
       "1                             3  \n",
       "2                             3  \n",
       "3                             3  \n",
       "4                             4  "
      ]
     },
     "execution_count": 4,
     "metadata": {},
     "output_type": "execute_result"
    }
   ],
   "source": [
    "data.head()"
   ]
  },
  {
   "cell_type": "code",
   "execution_count": 5,
   "metadata": {},
   "outputs": [
    {
     "name": "stdout",
     "output_type": "stream",
     "text": [
      "Исправленное среднее отклонение:\n"
     ]
    },
    {
     "data": {
      "text/plain": [
       "Накопленная оценка              2.225305\n",
       "Экзаменационная оценка          2.182661\n",
       "Итоговая оценка                 1.970303\n",
       "Итоговая оценка(округленная)    2.005178\n",
       "dtype: float64"
      ]
     },
     "execution_count": 5,
     "metadata": {},
     "output_type": "execute_result"
    }
   ],
   "source": [
    "print('Исправленное среднее отклонение:')\n",
    "data.std()"
   ]
  },
  {
   "cell_type": "code",
   "execution_count": 6,
   "metadata": {},
   "outputs": [
    {
     "name": "stdout",
     "output_type": "stream",
     "text": [
      "Среднее арифмитическое:\n"
     ]
    },
    {
     "data": {
      "text/plain": [
       "Накопленная оценка              5.641414\n",
       "Экзаменационная оценка          4.570707\n",
       "Итоговая оценка                 5.106061\n",
       "Итоговая оценка(округленная)    5.368687\n",
       "dtype: float64"
      ]
     },
     "execution_count": 6,
     "metadata": {},
     "output_type": "execute_result"
    }
   ],
   "source": [
    "print('Среднее арифмитическое:')\n",
    "data.mean()"
   ]
  },
  {
   "cell_type": "code",
   "execution_count": 7,
   "metadata": {},
   "outputs": [
    {
     "name": "stdout",
     "output_type": "stream",
     "text": [
      "Медиана:\n"
     ]
    },
    {
     "data": {
      "text/plain": [
       "Накопленная оценка              5.5\n",
       "Экзаменационная оценка          4.0\n",
       "Итоговая оценка                 5.0\n",
       "Итоговая оценка(округленная)    5.0\n",
       "dtype: float64"
      ]
     },
     "execution_count": 7,
     "metadata": {},
     "output_type": "execute_result"
    }
   ],
   "source": [
    "print('Медиана:')\n",
    "data.median()"
   ]
  },
  {
   "cell_type": "code",
   "execution_count": 8,
   "metadata": {},
   "outputs": [
    {
     "data": {
      "text/plain": [
       "<AxesSubplot:xlabel='Итоговая оценка', ylabel='Count'>"
      ]
     },
     "execution_count": 8,
     "metadata": {},
     "output_type": "execute_result"
    },
    {
     "data": {
      "image/png": "[encoded data removed]",
      "text/plain": [
       "<Figure size 432x288 with 1 Axes>"
      ]
     },
     "metadata": {
      "needs_background": "light"
     },
     "output_type": "display_data"
    }
   ],
   "source": [
    "sns.histplot(data['Итоговая оценка'], bins=np.linspace(0, 11, 22))"
   ]
  },
  {
   "cell_type": "code",
   "execution_count": 9,
   "metadata": {},
   "outputs": [
    {
     "data": {
      "text/plain": [
       "<AxesSubplot:xlabel='Итоговая оценка(округленная)', ylabel='Count'>"
      ]
     },
     "execution_count": 9,
     "metadata": {},
     "output_type": "execute_result"
    },
    {
     "data": {
      "image/png": "[encoded data removed]",
      "text/plain": [
       "<Figure size 432x288 with 1 Axes>"
      ]
     },
     "metadata": {
      "needs_background": "light"
     },
     "output_type": "display_data"
    }
   ],
   "source": [
    "sns.histplot(data['Итоговая оценка(округленная)'], bins=np.linspace(0, 11, 22))"
   ]
  },
  {
   "cell_type": "code",
   "execution_count": 10,
   "metadata": {},
   "outputs": [
    {
     "data": {
      "image/png": "[encoded data removed]",
      "text/plain": [
       "<Figure size 864x360 with 1 Axes>"
      ]
     },
     "metadata": {
      "needs_background": "light"
     },
     "output_type": "display_data"
    }
   ],
   "source": [
    "import matplotlib.pyplot as plt\n",
    "\n",
    "plt.figure(figsize=(12, 5))\n",
    "\n",
    "pos1, freq1 = np.unique(data['Итоговая оценка(округленная)'], return_counts=True)\n",
    "pos2, freq2 = np.unique(data['Итоговая оценка'], return_counts=True)\n",
    "\n",
    "plt.title('Полигон частот', fontsize=16)\n",
    "\n",
    "plt.plot(pos1, freq1 / len(freq1), label='Итоговая оценка(округленная)', color='red')\n",
    "plt.plot(pos2, freq2 / len(freq2), label='Итоговая оценка(не округленная)', color='blue')\n",
    "plt.legend(loc='best')\n",
    "plt.grid()\n",
    "\n",
    "plt.xlabel('x', fontsize=12)\n",
    "plt.ylabel('y', fontsize=12);"
   ]
  },
  {
   "cell_type": "code",
   "execution_count": 11,
   "metadata": {},
   "outputs": [],
   "source": [
    "p_lambda = data['Итоговая оценка(округленная)'].mean()"
   ]
  },
  {
   "cell_type": "markdown",
   "metadata": {},
   "source": [
    "Проверим гипотезу, что данные пришли из распределения Пуассона. Для этого сравним ожидаемые вероятности и частоты, которые мы получили. Сделаем это с помощью критерий $\\chi^2$. Но так как распределение Пуассона имеет бесконечный хвост, подменим нулевую гипотезу на следующую.\n",
    "\n",
    "H0: $p(k)=\\frac{\\lambda^{k}}{k !} e^{-\\lambda}$ для k от 0 до 10 и хвост Пуассона отнесем к $p(k \\geq 11) = 1 - \\sum_{i=0}^{10}p(i)$ \\\n",
    "H1: иначе \n",
    "\n",
    "Так сумма ожидаемых вероятностей будет равна 1. Параметр $\\lambda$ оценим по выборке."
   ]
  },
  {
   "cell_type": "code",
   "execution_count": 12,
   "metadata": {},
   "outputs": [],
   "source": [
    "from math import factorial \n",
    "\n",
    "# Найдем теор. вероятности\n",
    "exp_freqs = np.array([p_lambda ** k / factorial(k) for k in range(12)]) / np.exp(p_lambda)\n",
    "exp_freqs[-1] = 1 - sum(exp_freqs[:-1])"
   ]
  },
  {
   "cell_type": "code",
   "execution_count": 13,
   "metadata": {},
   "outputs": [],
   "source": [
    "from scipy.stats import chi2\n",
    "\n",
    "# Найдем частоты\n",
    "obs_freqs_mul_n = np.bincount(data['Итоговая оценка(округленная)'], minlength=12)\n",
    "n = sum(obs_freqs_mul_n)"
   ]
  },
  {
   "cell_type": "code",
   "execution_count": 14,
   "metadata": {},
   "outputs": [
    {
     "data": {
      "text/plain": [
       "Power_divergenceResult(statistic=18.28847219279885, pvalue=0.07512391489145363)"
      ]
     },
     "execution_count": 14,
     "metadata": {},
     "output_type": "execute_result"
    }
   ],
   "source": [
    "from scipy.stats import chisquare\n",
    "\n",
    "chisquare(obs_freqs_mul_n, exp_freqs * n) # pvalue > 0.02 => нет оснований отвергнуть H0"
   ]
  },
  {
   "cell_type": "code",
   "execution_count": 15,
   "metadata": {},
   "outputs": [
    {
     "name": "stdout",
     "output_type": "stream",
     "text": [
      "Значение статистики: 18.28847219279885\n",
      "Критическая область:  [22.617940805565944: inf)\n",
      "Нет оснований отклонить нулевую гипотезу\n"
     ]
    }
   ],
   "source": [
    "def chi_square(expected_freqs, observed_freqs, n, alpha=0.02):\n",
    "    statistic = sum((expected_freqs - observed_freqs) ** 2 / expected_freqs) * n\n",
    "    border = chi2(len(expected_freqs)-1).ppf(1-alpha)\n",
    "    \n",
    "    print(f'Значение статистики: {statistic}')\n",
    "    print(f\"Критическая область:  [{border}: inf)\")\n",
    "    if statistic > border:\n",
    "        print(\"Отвергаем нулевую гипотезу\")\n",
    "    else:\n",
    "        print('Нет оснований отклонить нулевую гипотезу')\n",
    "        \n",
    "    return statistic\n",
    "\n",
    "# Моя реализация\n",
    "chi_square(exp_freqs, obs_freqs_mul_n/n,  n, 0.02);"
   ]
  },
  {
   "cell_type": "code",
   "execution_count": 16,
   "metadata": {},
   "outputs": [],
   "source": [
    "# Проверим гипотезу о нормальности\n",
    "from scipy.stats import normaltest, shapiro, norm"
   ]
  },
  {
   "cell_type": "markdown",
   "metadata": {},
   "source": [
    "Разбиваем на следующие интервалы (-inf 0.5]u(0.5 1.5]u(1.5, 2.5]u...u(9.5,10.5]u(10.5, inf)"
   ]
  },
  {
   "cell_type": "code",
   "execution_count": 32,
   "metadata": {},
   "outputs": [
    {
     "name": "stdout",
     "output_type": "stream",
     "text": [
      "Частоты теоретические [0.00171254 0.00587745 0.01925385 0.04942298 0.09941941 0.15674062\n",
      " 0.19368003 0.18758267 0.14239783 0.08472307 0.03950568 0.01443566\n",
      " 0.00524822]\n",
      "Наблюдаемые частоты, умноженные на n [ 0.  0.  2. 17. 18. 33. 30. 40. 28. 16. 13.  1.  0.] \n",
      "\n",
      "Новые\n",
      "Частоты теоретические [0.07626682 0.09941941 0.15674062 0.19368003 0.18758267 0.14239783\n",
      " 0.08472307 0.05918956]\n",
      "Наблюдаемые частоты, умноженные на n [19. 18. 33. 30. 40. 28. 16. 14.] \n",
      "\n",
      "Сумма ожидаемых частот: 1.0\n",
      "Значение статистики: 8.405564420020145\n",
      "Критическая область:  [21.02606981748307: inf)\n",
      "Нет оснований отклонить нулевую гипотезу\n"
     ]
    }
   ],
   "source": [
    "# Сначала с помощью chi2\n",
    "mean, std = data['Итоговая оценка(округленная)'].mean(), data['Итоговая оценка(округленная)'].std()\n",
    "\n",
    "observed_count = np.zeros(13)\n",
    "observed_count[1:-1] = np.bincount(data['Итоговая оценка(округленная)'])\n",
    "n = sum(observed_count)\n",
    "\n",
    "intervals = np.linspace(0, 11, 12) - 0.5\n",
    "exp_freqs = np.zeros(13)\n",
    "\n",
    "for i in range(len(exp_freqs)):\n",
    "    if i==0:\n",
    "        exp_freqs[0] = norm(mean, std).cdf(intervals[i])\n",
    "    elif i==len(exp_freqs)-1:\n",
    "        exp_freqs[i] = 1 - norm(mean, std).cdf(intervals[i-1])\n",
    "    else:\n",
    "        exp_freqs[i] = norm(mean, std).cdf(intervals[i]) - norm(mean, std).cdf(intervals[i-1])\n",
    "\n",
    "\n",
    "print('Частоты теоретические', exp_freqs)\n",
    "print('Наблюдаемые частоты, умноженные на n', observed_count, '\\n')\n",
    "\n",
    "# Схлопним первые 4 значения, и последние 3, чтобы n * p_obs > 5,\n",
    "exp_freqs[3] = exp_freqs[:4].sum()\n",
    "observed_count[3] = observed_count[:4].sum()\n",
    "\n",
    "exp_freqs[-3] = exp_freqs[-3:].sum()\n",
    "observed_count[-3] = observed_count[-3:].sum()\n",
    "\n",
    "new_exp_freqs = exp_freqs[3:-2]\n",
    "new_observed_count = observed_count[3: -2]\n",
    "\n",
    "print('Новые')\n",
    "print('Частоты теоретические', new_exp_freqs)\n",
    "print('Наблюдаемые частоты, умноженные на n', new_observed_count, '\\n')\n",
    "\n",
    "print('Сумма ожидаемых частот:', new_exp_freqs.sum()) # Сумма 1, значит все правильно\n",
    "chi_square(exp_freqs, observed_count/n,  n, 0.05);"
   ]
  },
  {
   "cell_type": "code",
   "execution_count": null,
   "metadata": {},
   "outputs": [],
   "source": []
  },
  {
   "cell_type": "code",
   "execution_count": 18,
   "metadata": {},
   "outputs": [
    {
     "data": {
      "text/plain": [
       "NormaltestResult(statistic=8.482400162086913, pvalue=0.014390311935977935)"
      ]
     },
     "execution_count": 18,
     "metadata": {},
     "output_type": "execute_result"
    }
   ],
   "source": [
    "# Так же есть более мощные критерии для проверки нормальности. Например D’Agostino\n",
    "# https://en.wikipedia.org/wiki/D%27Agostino%27s_K-squared_test, там действительно большие формулы,\n",
    "# поэтому я реализовал xi^2\n",
    "normaltest(data['Итоговая оценка(округленная)'])"
   ]
  },
  {
   "cell_type": "code",
   "execution_count": 19,
   "metadata": {},
   "outputs": [
    {
     "data": {
      "text/plain": [
       "ShapiroResult(statistic=0.9654703140258789, pvalue=8.853968029143289e-05)"
      ]
     },
     "execution_count": 19,
     "metadata": {},
     "output_type": "execute_result"
    }
   ],
   "source": [
    "# Или самый мощный - Шапиро Уилко\n",
    "shapiro(data['Итоговая оценка(округленная)'])"
   ]
  },
  {
   "cell_type": "markdown",
   "metadata": {},
   "source": [
    "Видно, что Шапиро и normaltest отклоняют гипотезу о нормальности, в то время, как Хи квадрат этого не делает."
   ]
  },
  {
   "cell_type": "code",
   "execution_count": 20,
   "metadata": {},
   "outputs": [],
   "source": [
    "# Проверим гипотезу о том, что половине студентам повезло и им поставили округлили вверх,\n",
    "# а половине оставили их баллы. (так же с помощью xi^2)\n",
    "diff = data['Итоговая оценка(округленная)'] - data['Итоговая оценка']"
   ]
  },
  {
   "cell_type": "code",
   "execution_count": 25,
   "metadata": {},
   "outputs": [
    {
     "data": {
      "text/plain": [
       "Power_divergenceResult(statistic=0.5050505050505051, pvalue=0.4772893402694306)"
      ]
     },
     "execution_count": 25,
     "metadata": {},
     "output_type": "execute_result"
    }
   ],
   "source": [
    "# H0: p1 = p2 = 1/2\n",
    "# H1: иначе\n",
    "\n",
    "obs_freqs_mul_n = np.bincount(diff+0.5)\n",
    "n = len(diff)\n",
    "exp_freqs = np.array([1/2, 1/2])\n",
    "\n",
    "chisquare(obs_freqs_mul_n, exp_freqs * n)"
   ]
  },
  {
   "cell_type": "markdown",
   "metadata": {},
   "source": [
    "Так же нет оснований отклонить гипотезу о равномерности"
   ]
  },
  {
   "cell_type": "markdown",
   "metadata": {},
   "source": [
    "Рассотрим гипотезу, что среднее до округления и после равны"
   ]
  },
  {
   "cell_type": "code",
   "execution_count": 22,
   "metadata": {},
   "outputs": [
    {
     "data": {
      "text/plain": [
       "F_onewayResult(statistic=1.72805896359543, pvalue=0.18942366707628355)"
      ]
     },
     "execution_count": 22,
     "metadata": {},
     "output_type": "execute_result"
    }
   ],
   "source": [
    "from scipy.stats import f_oneway\n",
    "\n",
    "f_oneway(data['Итоговая оценка(округленная)'], data['Итоговая оценка'])"
   ]
  },
  {
   "cell_type": "code",
   "execution_count": 23,
   "metadata": {},
   "outputs": [
    {
     "data": {
      "text/plain": [
       "Ttest_indResult(statistic=1.314556565384473, pvalue=0.18942366707628916)"
      ]
     },
     "execution_count": 23,
     "metadata": {},
     "output_type": "execute_result"
    }
   ],
   "source": [
    "ttest_ind(data['Итоговая оценка(округленная)'], data['Итоговая оценка'], equal_var=True)"
   ]
  },
  {
   "cell_type": "markdown",
   "metadata": {},
   "source": [
    "Не можем отвергнуть гипотезу о равенстве средних"
   ]
  },
  {
   "cell_type": "code",
   "execution_count": null,
   "metadata": {},
   "outputs": [],
   "source": []
  }
 ],
 "metadata": {
  "kernelspec": {
   "display_name": "Python 3",
   "language": "python",
   "name": "python3"
  },
  "language_info": {
   "codemirror_mode": {
    "name": "ipython",
    "version": 3
   },
   "file_extension": ".py",
   "mimetype": "text/x-python",
   "name": "python",
   "nbconvert_exporter": "python",
   "pygments_lexer": "ipython3",
   "version": "3.8.5"
  }
 },
 "nbformat": 4,
 "nbformat_minor": 4
}
