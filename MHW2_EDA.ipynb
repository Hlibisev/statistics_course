{
 "cells": [
  {
   "cell_type": "code",
   "execution_count": 2,
   "metadata": {},
   "outputs": [],
   "source": [
    "import pandas as pd\n",
    "import numpy as np"
   ]
  },
  {
   "cell_type": "code",
   "execution_count": 3,
   "metadata": {},
   "outputs": [],
   "source": [
    "def delete_marks(x):\n",
    "    if x is None:\n",
    "        return x\n",
    "    \n",
    "    if x[0] == '\"': x = x[1:]\n",
    "    if x[-1] == '\"': x = x[:-1]\n",
    "    return x"
   ]
  },
  {
   "cell_type": "code",
   "execution_count": 4,
   "metadata": {},
   "outputs": [
    {
     "data": {
      "text/html": [
       "<div>\n",
       "<style scoped>\n",
       "    .dataframe tbody tr th:only-of-type {\n",
       "        vertical-align: middle;\n",
       "    }\n",
       "\n",
       "    .dataframe tbody tr th {\n",
       "        vertical-align: top;\n",
       "    }\n",
       "\n",
       "    .dataframe thead th {\n",
       "        text-align: right;\n",
       "    }\n",
       "</style>\n",
       "<table border=\"1\" class=\"dataframe\">\n",
       "  <thead>\n",
       "    <tr style=\"text-align: right;\">\n",
       "      <th></th>\n",
       "      <th>Date / Time</th>\n",
       "      <th>City</th>\n",
       "      <th>State</th>\n",
       "      <th>Shape</th>\n",
       "      <th>Duration</th>\n",
       "      <th>Summary</th>\n",
       "      <th>Posted</th>\n",
       "    </tr>\n",
       "  </thead>\n",
       "  <tbody>\n",
       "    <tr>\n",
       "      <th>0</th>\n",
       "      <td>12/17/11 06:30</td>\n",
       "      <td>Partlow</td>\n",
       "      <td>VA</td>\n",
       "      <td>Flash</td>\n",
       "      <td>About a min</td>\n",
       "      <td>Went out to have a smoke ....looking up to see...</td>\n",
       "      <td>12/17/11</td>\n",
       "    </tr>\n",
       "    <tr>\n",
       "      <th>1</th>\n",
       "      <td>12/16/11 23:45</td>\n",
       "      <td>Bellevue</td>\n",
       "      <td>WA</td>\n",
       "      <td>Light</td>\n",
       "      <td>5 sec</td>\n",
       "      <td>Man witnesses a strange green lights streak ve...</td>\n",
       "      <td>12/17/11</td>\n",
       "    </tr>\n",
       "    <tr>\n",
       "      <th>2</th>\n",
       "      <td>12/16/11 22:59</td>\n",
       "      <td>Cooksville</td>\n",
       "      <td>MD</td>\n",
       "      <td>Sphere</td>\n",
       "      <td>5 minutes</td>\n",
       "      <td>4 glowing orange spherical objects viewed, fly...</td>\n",
       "      <td>12/17/11</td>\n",
       "    </tr>\n",
       "    <tr>\n",
       "      <th>3</th>\n",
       "      <td>12/16/11 21:40</td>\n",
       "      <td>Deltona</td>\n",
       "      <td>FL</td>\n",
       "      <td>Triangle</td>\n",
       "      <td>unknown</td>\n",
       "      <td>Triangular shaped object, with a rounded back ...</td>\n",
       "      <td>12/17/11</td>\n",
       "    </tr>\n",
       "    <tr>\n",
       "      <th>4</th>\n",
       "      <td>12/16/11 21:30</td>\n",
       "      <td>Atlantic Ocean (in flight)</td>\n",
       "      <td>NaN</td>\n",
       "      <td>Light</td>\n",
       "      <td>5 minutes</td>\n",
       "      <td>Crew of Lear jet over the Atlantic Ocean repor...</td>\n",
       "      <td>12/17/11</td>\n",
       "    </tr>\n",
       "  </tbody>\n",
       "</table>\n",
       "</div>"
      ],
      "text/plain": [
       "      Date / Time                        City State     Shape     Duration  \\\n",
       "0  12/17/11 06:30                     Partlow    VA     Flash  About a min   \n",
       "1  12/16/11 23:45                    Bellevue    WA     Light        5 sec   \n",
       "2  12/16/11 22:59                  Cooksville    MD    Sphere    5 minutes   \n",
       "3  12/16/11 21:40                     Deltona    FL  Triangle      unknown   \n",
       "4  12/16/11 21:30  Atlantic Ocean (in flight)   NaN     Light    5 minutes   \n",
       "\n",
       "                                             Summary    Posted  \n",
       "0  Went out to have a smoke ....looking up to see...  12/17/11  \n",
       "1  Man witnesses a strange green lights streak ve...  12/17/11  \n",
       "2  4 glowing orange spherical objects viewed, fly...  12/17/11  \n",
       "3  Triangular shaped object, with a rounded back ...  12/17/11  \n",
       "4  Crew of Lear jet over the Atlantic Ocean repor...  12/17/11  "
      ]
     },
     "execution_count": 4,
     "metadata": {},
     "output_type": "execute_result"
    }
   ],
   "source": [
    "data = pd.read_csv(\"./data/ufodata.txt\", sep='\" \"', engine='python')\n",
    "data.reset_index(drop=True, inplace=True)\n",
    "\n",
    "data[\"Posted\"] = data[\"Posted\"].apply(delete_marks)\n",
    "data.head()"
   ]
  },
  {
   "cell_type": "code",
   "execution_count": 5,
   "metadata": {},
   "outputs": [],
   "source": [
    "import scipy.stats as stats\n",
    "\n",
    "def resumetable(df):\n",
    "    print(f\"Dataset Shape: {df.shape}\")\n",
    "    summary = pd.DataFrame(df.dtypes,columns=['dtypes'])\n",
    "    summary = summary.reset_index()\n",
    "    summary['Name'] = summary['index']\n",
    "    summary = summary[['Name','dtypes']]\n",
    "    summary['Missing'] = df.isnull().sum().values    \n",
    "    summary['Uniques'] = df.nunique().values\n",
    "    summary['First Value'] = df.iloc[0].values\n",
    "    summary['Second Value'] = df.iloc[1].values\n",
    "    summary['Third Value'] = df.iloc[2].values\n",
    "\n",
    "    for name in summary['Name'].value_counts().index:\n",
    "        summary.loc[summary['Name'] == name, 'Entropy'] = round(stats.entropy(df[name].value_counts(normalize=True), base=2),2) \n",
    "\n",
    "    return summary"
   ]
  },
  {
   "cell_type": "code",
   "execution_count": 6,
   "metadata": {},
   "outputs": [
    {
     "name": "stdout",
     "output_type": "stream",
     "text": [
      "Dataset Shape: (68721, 7)\n"
     ]
    },
    {
     "data": {
      "text/html": [
       "<div>\n",
       "<style scoped>\n",
       "    .dataframe tbody tr th:only-of-type {\n",
       "        vertical-align: middle;\n",
       "    }\n",
       "\n",
       "    .dataframe tbody tr th {\n",
       "        vertical-align: top;\n",
       "    }\n",
       "\n",
       "    .dataframe thead th {\n",
       "        text-align: right;\n",
       "    }\n",
       "</style>\n",
       "<table border=\"1\" class=\"dataframe\">\n",
       "  <thead>\n",
       "    <tr style=\"text-align: right;\">\n",
       "      <th></th>\n",
       "      <th>Name</th>\n",
       "      <th>dtypes</th>\n",
       "      <th>Missing</th>\n",
       "      <th>Uniques</th>\n",
       "      <th>First Value</th>\n",
       "      <th>Second Value</th>\n",
       "      <th>Third Value</th>\n",
       "      <th>Entropy</th>\n",
       "    </tr>\n",
       "  </thead>\n",
       "  <tbody>\n",
       "    <tr>\n",
       "      <th>0</th>\n",
       "      <td>Date / Time</td>\n",
       "      <td>object</td>\n",
       "      <td>1</td>\n",
       "      <td>60303</td>\n",
       "      <td>12/17/11 06:30</td>\n",
       "      <td>12/16/11 23:45</td>\n",
       "      <td>12/16/11 22:59</td>\n",
       "      <td>15.77</td>\n",
       "    </tr>\n",
       "    <tr>\n",
       "      <th>1</th>\n",
       "      <td>City</td>\n",
       "      <td>object</td>\n",
       "      <td>156</td>\n",
       "      <td>19452</td>\n",
       "      <td>Partlow</td>\n",
       "      <td>Bellevue</td>\n",
       "      <td>Cooksville</td>\n",
       "      <td>12.63</td>\n",
       "    </tr>\n",
       "    <tr>\n",
       "      <th>2</th>\n",
       "      <td>State</td>\n",
       "      <td>object</td>\n",
       "      <td>6450</td>\n",
       "      <td>71</td>\n",
       "      <td>VA</td>\n",
       "      <td>WA</td>\n",
       "      <td>MD</td>\n",
       "      <td>5.20</td>\n",
       "    </tr>\n",
       "    <tr>\n",
       "      <th>3</th>\n",
       "      <td>Shape</td>\n",
       "      <td>object</td>\n",
       "      <td>2654</td>\n",
       "      <td>46</td>\n",
       "      <td>Flash</td>\n",
       "      <td>Light</td>\n",
       "      <td>Sphere</td>\n",
       "      <td>3.82</td>\n",
       "    </tr>\n",
       "    <tr>\n",
       "      <th>4</th>\n",
       "      <td>Duration</td>\n",
       "      <td>object</td>\n",
       "      <td>2835</td>\n",
       "      <td>10104</td>\n",
       "      <td>About a min</td>\n",
       "      <td>5 sec</td>\n",
       "      <td>5 minutes</td>\n",
       "      <td>9.40</td>\n",
       "    </tr>\n",
       "    <tr>\n",
       "      <th>5</th>\n",
       "      <td>Summary</td>\n",
       "      <td>object</td>\n",
       "      <td>34</td>\n",
       "      <td>68378</td>\n",
       "      <td>Went out to have a smoke ....looking up to see...</td>\n",
       "      <td>Man witnesses a strange green lights streak ve...</td>\n",
       "      <td>4 glowing orange spherical objects viewed, fly...</td>\n",
       "      <td>16.06</td>\n",
       "    </tr>\n",
       "    <tr>\n",
       "      <th>6</th>\n",
       "      <td>Posted</td>\n",
       "      <td>object</td>\n",
       "      <td>3</td>\n",
       "      <td>255</td>\n",
       "      <td>12/17/11</td>\n",
       "      <td>12/17/11</td>\n",
       "      <td>12/17/11</td>\n",
       "      <td>7.35</td>\n",
       "    </tr>\n",
       "  </tbody>\n",
       "</table>\n",
       "</div>"
      ],
      "text/plain": [
       "          Name  dtypes  Missing  Uniques  \\\n",
       "0  Date / Time  object        1    60303   \n",
       "1         City  object      156    19452   \n",
       "2        State  object     6450       71   \n",
       "3        Shape  object     2654       46   \n",
       "4     Duration  object     2835    10104   \n",
       "5      Summary  object       34    68378   \n",
       "6       Posted  object        3      255   \n",
       "\n",
       "                                         First Value  \\\n",
       "0                                     12/17/11 06:30   \n",
       "1                                            Partlow   \n",
       "2                                                 VA   \n",
       "3                                              Flash   \n",
       "4                                        About a min   \n",
       "5  Went out to have a smoke ....looking up to see...   \n",
       "6                                           12/17/11   \n",
       "\n",
       "                                        Second Value  \\\n",
       "0                                     12/16/11 23:45   \n",
       "1                                           Bellevue   \n",
       "2                                                 WA   \n",
       "3                                              Light   \n",
       "4                                              5 sec   \n",
       "5  Man witnesses a strange green lights streak ve...   \n",
       "6                                           12/17/11   \n",
       "\n",
       "                                         Third Value  Entropy  \n",
       "0                                     12/16/11 22:59    15.77  \n",
       "1                                         Cooksville    12.63  \n",
       "2                                                 MD     5.20  \n",
       "3                                             Sphere     3.82  \n",
       "4                                          5 minutes     9.40  \n",
       "5  4 glowing orange spherical objects viewed, fly...    16.06  \n",
       "6                                           12/17/11     7.35  "
      ]
     },
     "execution_count": 6,
     "metadata": {},
     "output_type": "execute_result"
    }
   ],
   "source": [
    "resumetable(data)"
   ]
  },
  {
   "cell_type": "code",
   "execution_count": 7,
   "metadata": {},
   "outputs": [
    {
     "name": "stdout",
     "output_type": "stream",
     "text": [
      "Went out to have a smoke ....looking up to see if mars was out and and noticed a bright star in the north east .... Then what I thought\n",
      " *** \n",
      "Man witnesses a strange green lights streak vertically down in eastern sky.\n",
      " *** \n",
      "4 glowing orange spherical objects viewed, flying in some type of formation.\n"
     ]
    }
   ],
   "source": [
    "print(data['Summary'][0],\n",
    "      data['Summary'][1],\n",
    "      data['Summary'][2], sep='\\n *** \\n')"
   ]
  },
  {
   "cell_type": "markdown",
   "metadata": {},
   "source": [
    "Похоже у нас данные очевидцев НЛО!"
   ]
  },
  {
   "cell_type": "code",
   "execution_count": 8,
   "metadata": {},
   "outputs": [],
   "source": [
    "# Обработка времени\n",
    "from datetime import datetime\n",
    "from dateutil.relativedelta import relativedelta\n",
    "\n",
    "\n",
    "def str_to_date(x):\n",
    "    if x is None:\n",
    "        return None\n",
    "    \n",
    "    if 5 <= len(x) <= 8:\n",
    "        date = datetime.strptime(x, \"%m/%d/%y\")\n",
    "    if 9 <= len(x):\n",
    "        date = datetime.strptime(x, \"%m/%d/%y %H:%M\")\n",
    "        \n",
    "    if date > datetime(2021, 1, 1):\n",
    "        date -= relativedelta(years=100)\n",
    "    return date\n",
    "\n",
    "\n",
    "if type(data['Date / Time'][0]) is str:\n",
    "    data['Date / Time'] = [str_to_date(str_timr) for str_timr in data['Date / Time']]\n",
    "    data['Posted'] = [str_to_date(str_timr) for str_timr in data['Posted']]"
   ]
  },
  {
   "cell_type": "code",
   "execution_count": 9,
   "metadata": {},
   "outputs": [
    {
     "data": {
      "image/png": "[encoded data removed]",
      "text/plain": [
       "<Figure size 432x288 with 1 Axes>"
      ]
     },
     "metadata": {
      "needs_background": "light"
     },
     "output_type": "display_data"
    }
   ],
   "source": [
    "import seaborn as sns\n",
    "\n",
    "# Видим, что после 1990 года НЛО стало чаще посещать нашу планету\n",
    "sns.histplot(data['Date / Time'], bins=50, color='purple');"
   ]
  },
  {
   "cell_type": "code",
   "execution_count": 10,
   "metadata": {},
   "outputs": [
    {
     "data": {
      "image/png": "[encoded data removed]",
      "text/plain": [
       "<Figure size 432x288 with 1 Axes>"
      ]
     },
     "metadata": {
      "needs_background": "light"
     },
     "output_type": "display_data"
    }
   ],
   "source": [
    "# Особой тенденции здесь не наблюдается\n",
    "sns.histplot(data['Posted'], bins=50, color='purple');"
   ]
  },
  {
   "cell_type": "code",
   "execution_count": 11,
   "metadata": {},
   "outputs": [],
   "source": [
    "data['Shape'] = data['Shape'].str.lower()"
   ]
  },
  {
   "cell_type": "code",
   "execution_count": 12,
   "metadata": {},
   "outputs": [
    {
     "data": {
      "text/plain": [
       "array(['VA', 'WA', 'MD', 'FL', nan, 'IL', 'MN', 'MO', 'GA', 'SC', 'MB',\n",
       "       'SD', 'WY', 'NC', 'CA', 'AZ', 'TN', 'MA', 'ME', 'PA', 'KS', 'OH',\n",
       "       'OR', 'NY', 'CO', 'KY', 'AR', 'IN', 'NJ', 'TX', 'MT', 'DC', 'ND',\n",
       "       'AK', 'CT', 'VT', 'MI', 'AB', 'NM', 'LA', 'WI', 'NH', 'OK', 'UT',\n",
       "       'RI', 'MS', 'WV', 'ON', 'AL', 'IA', 'BC', 'NE', 'DE', 'NB', 'NV',\n",
       "       'QC', 'HI', 'ID', 'PE', 'NS', 'SK', 'NF', 'YT', 'NT', None, 'SA',\n",
       "       'PR', 'PQ', 'YK', 'VI', 'Fl', 'Ca'], dtype=object)"
      ]
     },
     "execution_count": 12,
     "metadata": {},
     "output_type": "execute_result"
    }
   ],
   "source": [
    "data['State'].unique()"
   ]
  },
  {
   "cell_type": "markdown",
   "metadata": {},
   "source": [
    "Самые часто встречаемые города"
   ]
  },
  {
   "cell_type": "code",
   "execution_count": 15,
   "metadata": {},
   "outputs": [
    {
     "data": {
      "text/plain": [
       "Seattle        481\n",
       "Phoenix        407\n",
       "Los Angeles    322\n",
       "Portland       310\n",
       "Las Vegas      309\n",
       "Name: City, dtype: int64"
      ]
     },
     "execution_count": 15,
     "metadata": {},
     "output_type": "execute_result"
    }
   ],
   "source": [
    "data['City'].value_counts()[:5]"
   ]
  },
  {
   "cell_type": "markdown",
   "metadata": {},
   "source": [
    "Самые часто встречаемые штаты"
   ]
  },
  {
   "cell_type": "code",
   "execution_count": 16,
   "metadata": {},
   "outputs": [
    {
     "data": {
      "text/plain": [
       "CA    8457\n",
       "WA    3740\n",
       "TX    3387\n",
       "FL    3242\n",
       "NY    2726\n",
       "Name: State, dtype: int64"
      ]
     },
     "execution_count": 16,
     "metadata": {},
     "output_type": "execute_result"
    }
   ],
   "source": [
    "data['State'].value_counts()[:5]"
   ]
  },
  {
   "cell_type": "code",
   "execution_count": null,
   "metadata": {},
   "outputs": [],
   "source": []
  }
 ],
 "metadata": {
  "kernelspec": {
   "display_name": "Python 3",
   "language": "python",
   "name": "python3"
  },
  "language_info": {
   "codemirror_mode": {
    "name": "ipython",
    "version": 3
   },
   "file_extension": ".py",
   "mimetype": "text/x-python",
   "name": "python",
   "nbconvert_exporter": "python",
   "pygments_lexer": "ipython3",
   "version": "3.8.5"
  }
 },
 "nbformat": 4,
 "nbformat_minor": 4
}
